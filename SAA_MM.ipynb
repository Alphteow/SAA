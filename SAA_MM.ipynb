{
 "cells": [
  {
   "cell_type": "code",
   "execution_count": 2,
   "id": "77883aa1",
   "metadata": {},
   "outputs": [
    {
     "ename": "ImportError",
     "evalue": "dlopen(/Users/veesheenyuen/.pyenv/versions/3.10.6/envs/SAA/lib/python3.10/site-packages/pyodbc.cpython-310-darwin.so, 0x0002): Library not loaded: /opt/homebrew/opt/unixodbc/lib/libodbc.2.dylib\n  Referenced from: <781089AF-D675-3AD0-BEC3-B9D75C17B5AF> /Users/veesheenyuen/.pyenv/versions/3.10.6/envs/SAA/lib/python3.10/site-packages/pyodbc.cpython-310-darwin.so\n  Reason: tried: '/opt/homebrew/opt/unixodbc/lib/libodbc.2.dylib' (no such file), '/System/Volumes/Preboot/Cryptexes/OS/opt/homebrew/opt/unixodbc/lib/libodbc.2.dylib' (no such file), '/opt/homebrew/opt/unixodbc/lib/libodbc.2.dylib' (no such file)",
     "output_type": "error",
     "traceback": [
      "\u001b[0;31m---------------------------------------------------------------------------\u001b[0m",
      "\u001b[0;31mImportError\u001b[0m                               Traceback (most recent call last)",
      "Cell \u001b[0;32mIn [2], line 2\u001b[0m\n\u001b[1;32m      1\u001b[0m \u001b[38;5;28;01mimport\u001b[39;00m \u001b[38;5;21;01mcsv\u001b[39;00m\n\u001b[0;32m----> 2\u001b[0m \u001b[38;5;28;01mimport\u001b[39;00m \u001b[38;5;21;01mpyodbc\u001b[39;00m\n\u001b[1;32m      4\u001b[0m MDB \u001b[38;5;241m=\u001b[39m \u001b[38;5;124m'\u001b[39m\u001b[38;5;124m/Users/veesheenyuen/Desktop/DataScience/SAA/MM/SAA Track & Field Series 6 2012.mdb\u001b[39m\u001b[38;5;124m'\u001b[39m\n\u001b[1;32m      5\u001b[0m DRV \u001b[38;5;241m=\u001b[39m \u001b[38;5;124m'\u001b[39m\u001b[38;5;124m{\u001b[39m\u001b[38;5;124mMicrosoft Access Driver (*.mdb)}\u001b[39m\u001b[38;5;124m'\u001b[39m\n",
      "\u001b[0;31mImportError\u001b[0m: dlopen(/Users/veesheenyuen/.pyenv/versions/3.10.6/envs/SAA/lib/python3.10/site-packages/pyodbc.cpython-310-darwin.so, 0x0002): Library not loaded: /opt/homebrew/opt/unixodbc/lib/libodbc.2.dylib\n  Referenced from: <781089AF-D675-3AD0-BEC3-B9D75C17B5AF> /Users/veesheenyuen/.pyenv/versions/3.10.6/envs/SAA/lib/python3.10/site-packages/pyodbc.cpython-310-darwin.so\n  Reason: tried: '/opt/homebrew/opt/unixodbc/lib/libodbc.2.dylib' (no such file), '/System/Volumes/Preboot/Cryptexes/OS/opt/homebrew/opt/unixodbc/lib/libodbc.2.dylib' (no such file), '/opt/homebrew/opt/unixodbc/lib/libodbc.2.dylib' (no such file)"
     ]
    }
   ],
   "source": [
    "# Connect to Meet Manager Access DB\n",
    "\n",
    "import csv\n",
    "import pyodbc\n",
    "\n",
    "MDB = '/Users/veesheenyuen/Desktop/DataScience/SAA/MM/SAA Track & Field Series 6 2012.mdb'\n",
    "DRV = '{Microsoft Access Driver (*.mdb)}'\n",
    "#PWD = 'mypassword'\n",
    "\n",
    "#conn = pyodbc.connect('DRIVER=%s;DBQ=%s;PWD=%s' % (DRV,MDB,PWD))\n",
    "conn = pyodbc.connect('DRIVER=%s;DBQ=%s' % (DRV,MDB))\n",
    "\n",
    "curs = conn.cursor()\n",
    "\n",
    "SQL = 'SELECT * FROM mytable;' # insert your query here\n",
    "curs.execute(SQL)\n",
    "\n",
    "rows = curs.fetchall()\n",
    "\n",
    "curs.close()\n",
    "conn.close()\n",
    "\n",
    "# you could change the 'w' to 'a' for subsequent queries\n",
    "csv_writer = csv.writer(open('mytable.csv', 'w'), lineterminator='\\n')\n",
    "\n",
    "for row in rows:\n",
    "    csv_writer.writerow(row)"
   ]
  },
  {
   "cell_type": "code",
   "execution_count": 1,
   "id": "701089c0",
   "metadata": {},
   "outputs": [
    {
     "name": "stderr",
     "output_type": "stream",
     "text": [
      "/bin/sh: mdb-tables: command not found\n",
      "/bin/sh: Field: command not found\n"
     ]
    },
    {
     "ename": "CalledProcessError",
     "evalue": "Command 'mdb-tables /Users/veesheenyuen/Desktop/DataScience/SAA/MM/SAA Track & Field Series 6 2012.mdb -d '|'' returned non-zero exit status 127.",
     "output_type": "error",
     "traceback": [
      "\u001b[0;31m---------------------------------------------------------------------------\u001b[0m",
      "\u001b[0;31mCalledProcessError\u001b[0m                        Traceback (most recent call last)",
      "Cell \u001b[0;32mIn [1], line 6\u001b[0m\n\u001b[1;32m      3\u001b[0m db \u001b[38;5;241m=\u001b[39m MDBParser(file_path\u001b[38;5;241m=\u001b[39m\u001b[38;5;124m\"\u001b[39m\u001b[38;5;124m/Users/veesheenyuen/Desktop/DataScience/SAA/MM/SAA Track & Field Series 6 2012.mdb\u001b[39m\u001b[38;5;124m\"\u001b[39m)\n\u001b[1;32m      5\u001b[0m \u001b[38;5;66;03m# Get and print the database tables\u001b[39;00m\n\u001b[0;32m----> 6\u001b[0m \u001b[38;5;28mprint\u001b[39m(\u001b[43mdb\u001b[49m\u001b[38;5;241;43m.\u001b[39;49m\u001b[43mtables\u001b[49m)\n",
      "File \u001b[0;32m~/.pyenv/versions/3.10.6/envs/SAA/lib/python3.10/site-packages/mdb_parser/__init__.py:20\u001b[0m, in \u001b[0;36mMDBParser.tables\u001b[0;34m(self)\u001b[0m\n\u001b[1;32m     13\u001b[0m \u001b[38;5;129m@property\u001b[39m\n\u001b[1;32m     14\u001b[0m \u001b[38;5;28;01mdef\u001b[39;00m \u001b[38;5;21mtables\u001b[39m(\u001b[38;5;28mself\u001b[39m):\n\u001b[1;32m     15\u001b[0m     \u001b[38;5;124;03m\"\"\"Returns the tables in the database\u001b[39;00m\n\u001b[1;32m     16\u001b[0m \n\u001b[1;32m     17\u001b[0m \u001b[38;5;124;03m    Returns:\u001b[39;00m\n\u001b[1;32m     18\u001b[0m \u001b[38;5;124;03m        (list): List with the table names\u001b[39;00m\n\u001b[1;32m     19\u001b[0m \u001b[38;5;124;03m    \"\"\"\u001b[39;00m\n\u001b[0;32m---> 20\u001b[0m     output \u001b[38;5;241m=\u001b[39m \u001b[43msubprocess\u001b[49m\u001b[38;5;241;43m.\u001b[39;49m\u001b[43mcheck_output\u001b[49m\u001b[43m(\u001b[49m\u001b[38;5;124;43mf\u001b[39;49m\u001b[38;5;124;43m\"\u001b[39;49m\u001b[38;5;124;43mmdb-tables \u001b[39;49m\u001b[38;5;132;43;01m{\u001b[39;49;00m\u001b[38;5;28;43mself\u001b[39;49m\u001b[38;5;241;43m.\u001b[39;49m\u001b[43m__file_path\u001b[49m\u001b[38;5;132;43;01m}\u001b[39;49;00m\u001b[38;5;124;43m -d \u001b[39;49m\u001b[38;5;124;43m'\u001b[39;49m\u001b[38;5;124;43m|\u001b[39;49m\u001b[38;5;124;43m'\u001b[39;49m\u001b[38;5;124;43m\"\u001b[39;49m\u001b[43m,\u001b[49m\u001b[43m \u001b[49m\u001b[43mshell\u001b[49m\u001b[38;5;241;43m=\u001b[39;49m\u001b[38;5;28;43;01mTrue\u001b[39;49;00m\u001b[43m)\u001b[49m\u001b[38;5;241m.\u001b[39mdecode(\u001b[38;5;124m\"\u001b[39m\u001b[38;5;124mutf-8\u001b[39m\u001b[38;5;124m\"\u001b[39m)\n\u001b[1;32m     21\u001b[0m     \u001b[38;5;28;01mreturn\u001b[39;00m output\u001b[38;5;241m.\u001b[39mstrip(\u001b[38;5;124m\"\u001b[39m\u001b[38;5;124m \u001b[39m\u001b[38;5;130;01m\\n\u001b[39;00m\u001b[38;5;124m|\u001b[39m\u001b[38;5;124m\"\u001b[39m)\u001b[38;5;241m.\u001b[39msplit(\u001b[38;5;124m\"\u001b[39m\u001b[38;5;124m|\u001b[39m\u001b[38;5;124m\"\u001b[39m)\n",
      "File \u001b[0;32m~/.pyenv/versions/3.10.6/lib/python3.10/subprocess.py:420\u001b[0m, in \u001b[0;36mcheck_output\u001b[0;34m(timeout, *popenargs, **kwargs)\u001b[0m\n\u001b[1;32m    417\u001b[0m         empty \u001b[38;5;241m=\u001b[39m \u001b[38;5;124mb\u001b[39m\u001b[38;5;124m'\u001b[39m\u001b[38;5;124m'\u001b[39m\n\u001b[1;32m    418\u001b[0m     kwargs[\u001b[38;5;124m'\u001b[39m\u001b[38;5;124minput\u001b[39m\u001b[38;5;124m'\u001b[39m] \u001b[38;5;241m=\u001b[39m empty\n\u001b[0;32m--> 420\u001b[0m \u001b[38;5;28;01mreturn\u001b[39;00m \u001b[43mrun\u001b[49m\u001b[43m(\u001b[49m\u001b[38;5;241;43m*\u001b[39;49m\u001b[43mpopenargs\u001b[49m\u001b[43m,\u001b[49m\u001b[43m \u001b[49m\u001b[43mstdout\u001b[49m\u001b[38;5;241;43m=\u001b[39;49m\u001b[43mPIPE\u001b[49m\u001b[43m,\u001b[49m\u001b[43m \u001b[49m\u001b[43mtimeout\u001b[49m\u001b[38;5;241;43m=\u001b[39;49m\u001b[43mtimeout\u001b[49m\u001b[43m,\u001b[49m\u001b[43m \u001b[49m\u001b[43mcheck\u001b[49m\u001b[38;5;241;43m=\u001b[39;49m\u001b[38;5;28;43;01mTrue\u001b[39;49;00m\u001b[43m,\u001b[49m\n\u001b[1;32m    421\u001b[0m \u001b[43m           \u001b[49m\u001b[38;5;241;43m*\u001b[39;49m\u001b[38;5;241;43m*\u001b[39;49m\u001b[43mkwargs\u001b[49m\u001b[43m)\u001b[49m\u001b[38;5;241m.\u001b[39mstdout\n",
      "File \u001b[0;32m~/.pyenv/versions/3.10.6/lib/python3.10/subprocess.py:524\u001b[0m, in \u001b[0;36mrun\u001b[0;34m(input, capture_output, timeout, check, *popenargs, **kwargs)\u001b[0m\n\u001b[1;32m    522\u001b[0m     retcode \u001b[38;5;241m=\u001b[39m process\u001b[38;5;241m.\u001b[39mpoll()\n\u001b[1;32m    523\u001b[0m     \u001b[38;5;28;01mif\u001b[39;00m check \u001b[38;5;129;01mand\u001b[39;00m retcode:\n\u001b[0;32m--> 524\u001b[0m         \u001b[38;5;28;01mraise\u001b[39;00m CalledProcessError(retcode, process\u001b[38;5;241m.\u001b[39margs,\n\u001b[1;32m    525\u001b[0m                                  output\u001b[38;5;241m=\u001b[39mstdout, stderr\u001b[38;5;241m=\u001b[39mstderr)\n\u001b[1;32m    526\u001b[0m \u001b[38;5;28;01mreturn\u001b[39;00m CompletedProcess(process\u001b[38;5;241m.\u001b[39margs, retcode, stdout, stderr)\n",
      "\u001b[0;31mCalledProcessError\u001b[0m: Command 'mdb-tables /Users/veesheenyuen/Desktop/DataScience/SAA/MM/SAA Track & Field Series 6 2012.mdb -d '|'' returned non-zero exit status 127."
     ]
    }
   ],
   "source": [
    "from mdb_parser import MDBParser, MDBTable\n",
    "\n",
    "db = MDBParser(file_path=\"/Users/veesheenyuen/Desktop/DataScience/SAA/MM/SAA Track & Field Series 6 2012.mdb\")\n",
    "\n",
    "# Get and print the database tables\n",
    "print(db.tables)"
   ]
  },
  {
   "cell_type": "code",
   "execution_count": 18,
   "id": "539e28c7",
   "metadata": {},
   "outputs": [],
   "source": [
    "# Parse and extract MM RTF files \n",
    "\n",
    "import pandas as pd\n",
    "import re\n",
    "\n",
    "from striprtf.striprtf import rtf_to_text\n",
    "\n",
    "\n",
    "with open('/Users/veesheenyuen/Desktop/DataScience/SAA/MM/sg open field day 2 results.rtf', 'r') as file:\n",
    "    text = file.read()\n",
    "    con=rtf_to_text(text)"
   ]
  },
  {
   "cell_type": "code",
   "execution_count": 29,
   "id": "13624eae",
   "metadata": {
    "scrolled": true
   },
   "outputs": [
    {
     "data": {
      "text/plain": [
       "'\\n\\t\\n\\tEvent 201  Women Triple Jump Open\\n==============================================================================\\n          CR:   13.90m  8/9/2007    Anastasiya Juravleva, UZB\\n          NR:   11.73m  6/12/2009   Mariam Shazana Bte Jalalludin\\n         NJR:   11.73m  6/6/2009    Mariam Shazana Bte Jalalludin\\n    Name                     Age Team                    Seed     Finals  Wind\\n==============================================================================\\nFinals\\n  1  1016 Binte Mohamad Nafi  23 Club Zoom             11.60m     13.52m   0.6\\n  2  1054 Takeda, Sayuri      23 Japan                 12.75m     13.25m   2.0\\n  3  1058 Yamane, Mei         24 Japan                 12.89m     12.59m   0.9\\n  4  1095 Ng, Yee Lin, Fiona  20 NUS                   10.32m     10.72m   1.5\\n  5  1160 Chow, Wan Ki Victo  17 WAC                   10.51m     10.39m   1.7\\n  6  1094 Lim, Yan Rui        20 NUS                   10.16m     10.28m  ‑0.4\\n ‑‑  1017 Xu, Weixin          27 Club Zoom             11.20m        DNS   NWI\\n\\n\\t\\n\\tEvent 202  Women High Jump Open\\n=========================================================================\\n          CR:   1.92m  22/6/1986   Christine Frances Stanton, AUS\\n          NR:   1.80m  16/7/2006   Sng Suat Li Michelle\\n         NJR:   1.80m  16/7/2006   Sng Suat Li Michelle\\n    Name                     Age Team                    Seed     Finals\\n=========================================================================\\n  1  1161 Goh, Chui Ling      20 WAC                               1.51m\\n ‑‑  1096 Toh, Xiao Min       20 NUS                    1.40m         NH\\n\\n\\t\\n\\tEvent 203  Men Pole Vault Open\\n=========================================================================\\n          CR:   5.40m  16/8/1992   Toshiyuki Hashioka, JPN\\n          NR:   4.81m  25/6/2011   Lim Zi Qing Sean\\n         NJR:   4.81m  25/6/2011   Lim Zi Qing Sean\\n    Name                     Age Team                    Seed     Finals\\n=========================================================================\\n  1  1033 Pramendra, Kumar P  19 India                             4.75m\\n  2  1097 Chong, Min Xun      24 NUS                    4.20m      4.60m\\n  3  1027 Koh, Xu Qing Aaron  17 HCIC                   4.30m      4.20m\\n  4  1109 Boey, Desmond Kaij  20 Safsa                             4.00m\\n  5  1025 Wong, Xin Zhan Cle  16 HCI                    4.10m      3.60m\\n ‑‑  1169 Ang, Kwok Chye Jay  27 WAC                    4.00m         NH\\n ‑‑  1179 Law, Chak Hin       22 WAC                    3.60m         NH\\n ‑‑  1028 Tan, Yuan Shao Dar  17 HCIC                   4.20m         NH\\n ‑‑  1024 Chan, Sheng Yao        HCI                    4.64m         NH\\n ‑‑  1026 Yong, Hao Bennett   16 HCI                                 DNS\\n\\n\\t\\n\\tEvent 204  Men Discus Throw Open\\n=========================================================================\\n          CR:   57.42m  4/9/1998    Lee Newman, Wales\\n          NR:   59.42m  4/9/1999    Wong Tuck Yim James\\n         NJR:   49.60m  6/4/2009    Wong Wei Gen Scott\\n    Name                     Age Team                    Seed     Finals\\n=========================================================================\\n  1  1062 Fujiwara, Jun       37 Japan                 50.32m     50.70m\\n  2  1143 Ruckpaul, Uli          Tv Alzey Athleti      48.67m     50.22m\\n  3  1195 Wong, Scott         22 WAC                   45.90m     48.50m\\n  4  1068 Oyama, Hirofumi     24 Japan                 50.57m     48.35m\\n  5  1193 Wong, James         43 WAC                   51.32m     46.37m\\n\\n\\n\\t....Event 204  Men Discus Throw Open\\n  6  1015 Yang, Chun Jui      18 Chinese Taipei                   43.63m\\n  7  1189 Su, Landdis         23 WAC                   41.00m     38.36m\\n  8  1171 Chow, Wing Hang     24 WAC                   30.00m     28.83m\\n  9  1045 Tan, Keng Siong Jo  22 Ite College East      28.85m     26.00m\\n\\n\\t\\n\\tEvent 211  Men Triple Jump Open\\n==============================================================================\\n          CR:   16.94m  3/9/2006    Kim Duk‑Hyeon, S.Korea\\n          NR:   16.04m  26/4/2009   Tseng Ke Cheng Stefan\\n         NJR:   16.04m  26/4/2009   Tseng Ke Cheng Stefan\\n    Name                     Age Team                    Seed     Finals  Wind\\n==============================================================================\\n  1  1064 Hasegawa, Daigo     22 Japan                 16.17m     15.60m  +0.0\\n  2  1069 Sato, Kenichi       28 Japan                 15.72m     15.59m  +0.0\\n  3  1031 .., Saurabh         26 India                 15.79m     14.39m  +0.0\\n  4  1194 Wong, Kin Nang      23 WAC                   14.66m     14.29m   0.4\\n ‑‑  1099 Sng, Muhammad Sham  21 NUS                   13.28m        DNS   NWI\\n ‑‑  1111 Chang, Cheng Huan   22 Safsa                               DNS   NWI\\n ‑‑  1116 See, Zhi Bin        23 Safsa                               DNS   NWI\\n\\n\\t\\n\\tEvent 212  Men High Jump Open\\n=========================================================================\\n          CR:   2.30m  8/4/1990    Geoff Parsons, GBR\\n          NR:   2.22m  14/12/1995  Wong Yew Tong\\n         NJR:   2.08m  26/4/2009   Yap Kuan Yi Wayne\\n    Name                     Age Team                    Seed     Finals\\n=========================================================================\\n  1  1061 Funase, Yuta        23 Japan                  2.11m      2.10m\\n  2  1086 Cai, Yao Qing, Ron  28 Nanyang Polytechnic    2.08m      2.00m\\n  3  1003 Bin Hj Yahya, Abdu  24 Brunei                           J2.00m\\n  4  1178 Lam, Ho Fung        26 WAC                    2.08m     J2.00m\\n  5  1023 Chan, Chi Shing        Hong Kong                         1.95m\\n  6  1039 Guntur, Ibrahim     17 Indonesia              1.93m     J1.95m\\n  7  1181 Lim, Nelson         20 WAC                    1.91m      1.85m\\n  8  1112 Khan, Meng Linn     20 Safsa                             1.80m\\n  9  1113 Khan, Meng Sunn     22 Safsa                             1.75m\\n ‑‑  1116 See, Zhi Bin        23 Safsa                                NH\\n ‑‑  1111 Chang, Cheng Huan   22 Safsa                               DNS\\n\\n\\t\\n\\tEvent 213  Women Discus Throw Open\\n=========================================================================\\n          CR:   57.82m  1996        Jana Lauren, GER\\n          NR:   49.91m  8/12/2003   Zhang Guirong\\n         NJR:   47.17m  13/8/2006   Wan Lay Chi\\n    Name                     Age Team                    Seed     Finals\\n=========================================================================\\n  1  1056 Tokai, Marika       24 Japan                 49.22m     47.78m\\n  2  1078 Yap, Jeng Tzan      25 Malaysia              46.84m     44.75m\\n  3  1005 Chiang, Ru Ching    17 Chinese Taipei        44.89m     42.54m\\n  4  1165 Lee, Shih‑Yan Hann  20 WAC                   42.79m     42.36m\\n  5  1034 Indah, Prapiwi      17 Indonesia                        35.00m\\n\\n\\n\\t\\n\\tEvent 214  Women Pole Vault Open\\n=========================================================================\\n          CR:   4.15m  29/11/2009  Roslinda Samsu, MAS\\n          NR:   3.81m  29/11/2009  Rachel Isabel Yang Bingjie\\n    Name                     Age Team                    Seed     Finals\\n=========================================================================\\n  1  1083 Chan, Justina       21 Nanyang Polytechnic    3.30m      3.20m\\n  2  1159 Choi, Sin Ting      23 WAC                    3.21m      2.80m\\n ‑‑  1198 Wong, Cara          17 RIJC                                 NH\\n ‑‑  1197 Ong, Pei Gin           Nanyang Polytechnic    2.80m         NH\\n'"
      ]
     },
     "execution_count": 29,
     "metadata": {},
     "output_type": "execute_result"
    }
   ],
   "source": [
    "con"
   ]
  },
  {
   "cell_type": "code",
   "execution_count": 46,
   "id": "0fba66dc",
   "metadata": {},
   "outputs": [],
   "source": [
    "df=pd.DataFrame(re.split('\\n', con))"
   ]
  },
  {
   "cell_type": "code",
   "execution_count": 33,
   "id": "800008f8",
   "metadata": {},
   "outputs": [
    {
     "data": {
      "text/plain": [
       "['',\n",
       " '\\t',\n",
       " '\\tEvent 201  Women Triple Jump Open',\n",
       " '==============================================================================',\n",
       " '          CR:   13.90m  8/9/2007    Anastasiya Juravleva, UZB',\n",
       " '          NR:   11.73m  6/12/2009   Mariam Shazana Bte Jalalludin',\n",
       " '         NJR:   11.73m  6/6/2009    Mariam Shazana Bte Jalalludin',\n",
       " '    Name                     Age Team                    Seed     Finals  Wind',\n",
       " '==============================================================================',\n",
       " 'Finals',\n",
       " '  1  1016 Binte Mohamad Nafi  23 Club Zoom             11.60m     13.52m   0.6',\n",
       " '  2  1054 Takeda, Sayuri      23 Japan                 12.75m     13.25m   2.0',\n",
       " '  3  1058 Yamane, Mei         24 Japan                 12.89m     12.59m   0.9',\n",
       " '  4  1095 Ng, Yee Lin, Fiona  20 NUS                   10.32m     10.72m   1.5',\n",
       " '  5  1160 Chow, Wan Ki Victo  17 WAC                   10.51m     10.39m   1.7',\n",
       " '  6  1094 Lim, Yan Rui        20 NUS                   10.16m     10.28m  ‑0.4',\n",
       " ' ‑‑  1017 Xu, Weixin          27 Club Zoom             11.20m        DNS   NWI',\n",
       " '',\n",
       " '\\t',\n",
       " '\\tEvent 202  Women High Jump Open',\n",
       " '=========================================================================',\n",
       " '          CR:   1.92m  22/6/1986   Christine Frances Stanton, AUS',\n",
       " '          NR:   1.80m  16/7/2006   Sng Suat Li Michelle',\n",
       " '         NJR:   1.80m  16/7/2006   Sng Suat Li Michelle',\n",
       " '    Name                     Age Team                    Seed     Finals',\n",
       " '=========================================================================',\n",
       " '  1  1161 Goh, Chui Ling      20 WAC                               1.51m',\n",
       " ' ‑‑  1096 Toh, Xiao Min       20 NUS                    1.40m         NH',\n",
       " '',\n",
       " '\\t',\n",
       " '\\tEvent 203  Men Pole Vault Open',\n",
       " '=========================================================================',\n",
       " '          CR:   5.40m  16/8/1992   Toshiyuki Hashioka, JPN',\n",
       " '          NR:   4.81m  25/6/2011   Lim Zi Qing Sean',\n",
       " '         NJR:   4.81m  25/6/2011   Lim Zi Qing Sean',\n",
       " '    Name                     Age Team                    Seed     Finals',\n",
       " '=========================================================================',\n",
       " '  1  1033 Pramendra, Kumar P  19 India                             4.75m',\n",
       " '  2  1097 Chong, Min Xun      24 NUS                    4.20m      4.60m',\n",
       " '  3  1027 Koh, Xu Qing Aaron  17 HCIC                   4.30m      4.20m',\n",
       " '  4  1109 Boey, Desmond Kaij  20 Safsa                             4.00m',\n",
       " '  5  1025 Wong, Xin Zhan Cle  16 HCI                    4.10m      3.60m',\n",
       " ' ‑‑  1169 Ang, Kwok Chye Jay  27 WAC                    4.00m         NH',\n",
       " ' ‑‑  1179 Law, Chak Hin       22 WAC                    3.60m         NH',\n",
       " ' ‑‑  1028 Tan, Yuan Shao Dar  17 HCIC                   4.20m         NH',\n",
       " ' ‑‑  1024 Chan, Sheng Yao        HCI                    4.64m         NH',\n",
       " ' ‑‑  1026 Yong, Hao Bennett   16 HCI                                 DNS',\n",
       " '',\n",
       " '\\t',\n",
       " '\\tEvent 204  Men Discus Throw Open',\n",
       " '=========================================================================',\n",
       " '          CR:   57.42m  4/9/1998    Lee Newman, Wales',\n",
       " '          NR:   59.42m  4/9/1999    Wong Tuck Yim James',\n",
       " '         NJR:   49.60m  6/4/2009    Wong Wei Gen Scott',\n",
       " '    Name                     Age Team                    Seed     Finals',\n",
       " '=========================================================================',\n",
       " '  1  1062 Fujiwara, Jun       37 Japan                 50.32m     50.70m',\n",
       " '  2  1143 Ruckpaul, Uli          Tv Alzey Athleti      48.67m     50.22m',\n",
       " '  3  1195 Wong, Scott         22 WAC                   45.90m     48.50m',\n",
       " '  4  1068 Oyama, Hirofumi     24 Japan                 50.57m     48.35m',\n",
       " '  5  1193 Wong, James         43 WAC                   51.32m     46.37m',\n",
       " '',\n",
       " '',\n",
       " '\\t....Event 204  Men Discus Throw Open',\n",
       " '  6  1015 Yang, Chun Jui      18 Chinese Taipei                   43.63m',\n",
       " '  7  1189 Su, Landdis         23 WAC                   41.00m     38.36m',\n",
       " '  8  1171 Chow, Wing Hang     24 WAC                   30.00m     28.83m',\n",
       " '  9  1045 Tan, Keng Siong Jo  22 Ite College East      28.85m     26.00m',\n",
       " '',\n",
       " '\\t',\n",
       " '\\tEvent 211  Men Triple Jump Open',\n",
       " '==============================================================================',\n",
       " '          CR:   16.94m  3/9/2006    Kim Duk‑Hyeon, S.Korea',\n",
       " '          NR:   16.04m  26/4/2009   Tseng Ke Cheng Stefan',\n",
       " '         NJR:   16.04m  26/4/2009   Tseng Ke Cheng Stefan',\n",
       " '    Name                     Age Team                    Seed     Finals  Wind',\n",
       " '==============================================================================',\n",
       " '  1  1064 Hasegawa, Daigo     22 Japan                 16.17m     15.60m  +0.0',\n",
       " '  2  1069 Sato, Kenichi       28 Japan                 15.72m     15.59m  +0.0',\n",
       " '  3  1031 .., Saurabh         26 India                 15.79m     14.39m  +0.0',\n",
       " '  4  1194 Wong, Kin Nang      23 WAC                   14.66m     14.29m   0.4',\n",
       " ' ‑‑  1099 Sng, Muhammad Sham  21 NUS                   13.28m        DNS   NWI',\n",
       " ' ‑‑  1111 Chang, Cheng Huan   22 Safsa                               DNS   NWI',\n",
       " ' ‑‑  1116 See, Zhi Bin        23 Safsa                               DNS   NWI',\n",
       " '',\n",
       " '\\t',\n",
       " '\\tEvent 212  Men High Jump Open',\n",
       " '=========================================================================',\n",
       " '          CR:   2.30m  8/4/1990    Geoff Parsons, GBR',\n",
       " '          NR:   2.22m  14/12/1995  Wong Yew Tong',\n",
       " '         NJR:   2.08m  26/4/2009   Yap Kuan Yi Wayne',\n",
       " '    Name                     Age Team                    Seed     Finals',\n",
       " '=========================================================================',\n",
       " '  1  1061 Funase, Yuta        23 Japan                  2.11m      2.10m',\n",
       " '  2  1086 Cai, Yao Qing, Ron  28 Nanyang Polytechnic    2.08m      2.00m',\n",
       " '  3  1003 Bin Hj Yahya, Abdu  24 Brunei                           J2.00m',\n",
       " '  4  1178 Lam, Ho Fung        26 WAC                    2.08m     J2.00m',\n",
       " '  5  1023 Chan, Chi Shing        Hong Kong                         1.95m',\n",
       " '  6  1039 Guntur, Ibrahim     17 Indonesia              1.93m     J1.95m',\n",
       " '  7  1181 Lim, Nelson         20 WAC                    1.91m      1.85m',\n",
       " '  8  1112 Khan, Meng Linn     20 Safsa                             1.80m',\n",
       " '  9  1113 Khan, Meng Sunn     22 Safsa                             1.75m',\n",
       " ' ‑‑  1116 See, Zhi Bin        23 Safsa                                NH',\n",
       " ' ‑‑  1111 Chang, Cheng Huan   22 Safsa                               DNS',\n",
       " '',\n",
       " '\\t',\n",
       " '\\tEvent 213  Women Discus Throw Open',\n",
       " '=========================================================================',\n",
       " '          CR:   57.82m  1996        Jana Lauren, GER',\n",
       " '          NR:   49.91m  8/12/2003   Zhang Guirong',\n",
       " '         NJR:   47.17m  13/8/2006   Wan Lay Chi',\n",
       " '    Name                     Age Team                    Seed     Finals',\n",
       " '=========================================================================',\n",
       " '  1  1056 Tokai, Marika       24 Japan                 49.22m     47.78m',\n",
       " '  2  1078 Yap, Jeng Tzan      25 Malaysia              46.84m     44.75m',\n",
       " '  3  1005 Chiang, Ru Ching    17 Chinese Taipei        44.89m     42.54m',\n",
       " '  4  1165 Lee, Shih‑Yan Hann  20 WAC                   42.79m     42.36m',\n",
       " '  5  1034 Indah, Prapiwi      17 Indonesia                        35.00m',\n",
       " '',\n",
       " '',\n",
       " '\\t',\n",
       " '\\tEvent 214  Women Pole Vault Open',\n",
       " '=========================================================================',\n",
       " '          CR:   4.15m  29/11/2009  Roslinda Samsu, MAS',\n",
       " '          NR:   3.81m  29/11/2009  Rachel Isabel Yang Bingjie',\n",
       " '    Name                     Age Team                    Seed     Finals',\n",
       " '=========================================================================',\n",
       " '  1  1083 Chan, Justina       21 Nanyang Polytechnic    3.30m      3.20m',\n",
       " '  2  1159 Choi, Sin Ting      23 WAC                    3.21m      2.80m',\n",
       " ' ‑‑  1198 Wong, Cara          17 RIJC                                 NH',\n",
       " ' ‑‑  1197 Ong, Pei Gin           Nanyang Polytechnic    2.80m         NH',\n",
       " '']"
      ]
     },
     "execution_count": 33,
     "metadata": {},
     "output_type": "execute_result"
    }
   ],
   "source": [
    "re.split('\\n', con)"
   ]
  },
  {
   "cell_type": "code",
   "execution_count": 48,
   "id": "895e43f7",
   "metadata": {},
   "outputs": [
    {
     "data": {
      "text/plain": [
       "'  1  1016 Binte Mohamad Nafi  23 Club Zoom             11.60m     13.52m   0.6'"
      ]
     },
     "execution_count": 48,
     "metadata": {},
     "output_type": "execute_result"
    }
   ],
   "source": [
    "df.iloc[10][0]"
   ]
  },
  {
   "cell_type": "code",
   "execution_count": 40,
   "id": "5d069e24",
   "metadata": {},
   "outputs": [
    {
     "data": {
      "text/plain": [
       "'  1  1061 Funase, Yuta        23 Japan                  2.11m      2.10m'"
      ]
     },
     "execution_count": 40,
     "metadata": {},
     "output_type": "execute_result"
    }
   ],
   "source": [
    "df.iloc[11][0]"
   ]
  },
  {
   "cell_type": "code",
   "execution_count": 39,
   "id": "3c029bf9",
   "metadata": {},
   "outputs": [
    {
     "data": {
      "text/plain": [
       "'  2  1086 Cai, Yao Qing, Ron  28 Nanyang Polytechnic    2.08m      2.00m'"
      ]
     },
     "execution_count": 39,
     "metadata": {},
     "output_type": "execute_result"
    }
   ],
   "source": [
    "df.iloc[12][0]"
   ]
  },
  {
   "cell_type": "code",
   "execution_count": 168,
   "id": "04bbe7b5",
   "metadata": {},
   "outputs": [],
   "source": [
    "string=df.iloc[10][0]"
   ]
  },
  {
   "cell_type": "code",
   "execution_count": 169,
   "id": "4d1d723b",
   "metadata": {},
   "outputs": [
    {
     "name": "stdout",
     "output_type": "stream",
     "text": [
      "  1  1016\n"
     ]
    }
   ],
   "source": [
    "print(string[:9])"
   ]
  },
  {
   "cell_type": "code",
   "execution_count": 171,
   "id": "dddbd08c",
   "metadata": {},
   "outputs": [
    {
     "name": "stdout",
     "output_type": "stream",
     "text": [
      "1 \n"
     ]
    }
   ],
   "source": [
    "print(string[2:4])"
   ]
  },
  {
   "cell_type": "code",
   "execution_count": 172,
   "id": "91e8bfe7",
   "metadata": {},
   "outputs": [
    {
     "name": "stdout",
     "output_type": "stream",
     "text": [
      "1016\n"
     ]
    }
   ],
   "source": [
    "print(string[5:9])"
   ]
  },
  {
   "cell_type": "code",
   "execution_count": 58,
   "id": "440336d4",
   "metadata": {},
   "outputs": [
    {
     "name": "stdout",
     "output_type": "stream",
     "text": [
      "Binte Mohamad Nafi \n"
     ]
    }
   ],
   "source": [
    "print(string[10:29])"
   ]
  },
  {
   "cell_type": "code",
   "execution_count": 59,
   "id": "f721069f",
   "metadata": {},
   "outputs": [
    {
     "name": "stdout",
     "output_type": "stream",
     "text": [
      "23 Club Zoom             11.60m     13.52m   0.6\n"
     ]
    }
   ],
   "source": [
    "print(string[30:])"
   ]
  },
  {
   "cell_type": "code",
   "execution_count": null,
   "id": "9927a11a",
   "metadata": {},
   "outputs": [],
   "source": []
  },
  {
   "cell_type": "code",
   "execution_count": 205,
   "id": "f1f1ec0b",
   "metadata": {},
   "outputs": [],
   "source": [
    "event_pattern='Men|Women'\n",
    "#result_pattern='(.\\d\\dm)'\n",
    "#result_pattern='(\\d\\d\\d\\d\\s[A-Z][a-z]+)'\n",
    "result_pattern='(\\d\\d\\d\\d\\s[A-Z].+(.\\d\\dm))'\n",
    "exclusion_pattern='(NH|DNS)'\n",
    "\n"
   ]
  },
  {
   "cell_type": "code",
   "execution_count": 207,
   "id": "b88f5e8a",
   "metadata": {},
   "outputs": [
    {
     "name": "stdout",
     "output_type": "stream",
     "text": [
      "<re.Match object; span=(69, 72), match='DNS'>\n"
     ]
    }
   ],
   "source": [
    "#s='  1  1056 Tokai, Marika       24 Japan                 49.22m     47.78m'\n",
    "#s='  6  1039 Guntur, Ibrahim     17 Indonesia              1.93m     J1.95m'\n",
    "s=' ‑‑  1111 Chang, Cheng Huan   22 Safsa                               DNS'\n",
    "\n",
    "\n",
    "match = re.search(exclusion_pattern, s)\n",
    "\n",
    "print(match)"
   ]
  },
  {
   "cell_type": "code",
   "execution_count": 206,
   "id": "d0c8cc01",
   "metadata": {},
   "outputs": [
    {
     "name": "stdout",
     "output_type": "stream",
     "text": [
      "1 ;1016; Binte Mohamad Nafi ;  Triple Jump Open; 23; Female; 1.60m; 13.52m; 0.6\n",
      "2 ;1054; Takeda, Sayuri     ;  Triple Jump Open; 23; Female; 2.75m; 13.25m; 2.0\n",
      "3 ;1058; Yamane, Mei        ;  Triple Jump Open; 24; Female; 2.89m; 12.59m; 0.9\n",
      "4 ;1095; Ng, Yee Lin, Fiona ;  Triple Jump Open; 20; Female; 0.32m; 10.72m; 1.5\n",
      "5 ;1160; Chow, Wan Ki Victo ;  Triple Jump Open; 17; Female; 0.51m; 10.39m; 1.7\n",
      "6 ;1094; Lim, Yan Rui       ;  Triple Jump Open; 20; Female; 0.16m; 10.28m; ‑0.4\n",
      "1 ;1161; Goh, Chui Ling     ;  High Jump Open; 20; Female; 1.51m\n",
      "1 ;1033; Pramendra, Kumar P ;  Pole Vault Open; 19; Male; 4.75m\n",
      "2 ;1097; Chong, Min Xun     ;  Pole Vault Open; 24; Male; 4.20m; 4.60m\n",
      "3 ;1027; Koh, Xu Qing Aaron ;  Pole Vault Open; 17; Male; 4.30m; 4.20m\n",
      "4 ;1109; Boey, Desmond Kaij ;  Pole Vault Open; 20; Male; 4.00m\n",
      "5 ;1025; Wong, Xin Zhan Cle ;  Pole Vault Open; 16; Male; 4.10m; 3.60m\n",
      "1 ;1062; Fujiwara, Jun      ;  Discus Throw Open; 37; Male; 0.32m; 50.70m\n",
      "2 ;1143; Ruckpaul, Uli      ;  Discus Throw Open;   ; Male; 8.67m; 50.22m\n",
      "3 ;1195; Wong, Scott        ;  Discus Throw Open; 22; Male; 5.90m; 48.50m\n",
      "4 ;1068; Oyama, Hirofumi    ;  Discus Throw Open; 24; Male; 0.57m; 48.35m\n",
      "5 ;1193; Wong, James        ;  Discus Throw Open; 43; Male; 1.32m; 46.37m\n",
      "6 ;1015; Yang, Chun Jui     ;  Discus Throw Open; 18; Male; 43.63m\n",
      "7 ;1189; Su, Landdis        ;  Discus Throw Open; 23; Male; 1.00m; 38.36m\n",
      "8 ;1171; Chow, Wing Hang    ;  Discus Throw Open; 24; Male; 0.00m; 28.83m\n",
      "9 ;1045; Tan, Keng Siong Jo ;  Discus Throw Open; 22; Male; 8.85m; 26.00m\n",
      "1 ;1064; Hasegawa, Daigo    ;  Triple Jump Open; 22; Male; 6.17m; 15.60m; +0.0\n",
      "2 ;1069; Sato, Kenichi      ;  Triple Jump Open; 28; Male; 5.72m; 15.59m; +0.0\n",
      "4 ;1194; Wong, Kin Nang     ;  Triple Jump Open; 23; Male; 4.66m; 14.29m; 0.4\n",
      "1 ;1061; Funase, Yuta       ;  High Jump Open; 23; Male; 2.11m; 2.10m\n",
      "2 ;1086; Cai, Yao Qing, Ron ;  High Jump Open; 28; Male; 2.08m; 2.00m\n",
      "3 ;1003; Bin Hj Yahya, Abdu ;  High Jump Open; 24; Male; J2.00m\n",
      "4 ;1178; Lam, Ho Fung       ;  High Jump Open; 26; Male; 2.08m; J2.00m\n",
      "5 ;1023; Chan, Chi Shing    ;  High Jump Open;   ; Male; 1.95m\n",
      "6 ;1039; Guntur, Ibrahim    ;  High Jump Open; 17; Male; 1.93m; J1.95m\n",
      "7 ;1181; Lim, Nelson        ;  High Jump Open; 20; Male; 1.91m; 1.85m\n",
      "8 ;1112; Khan, Meng Linn    ;  High Jump Open; 20; Male; 1.80m\n",
      "9 ;1113; Khan, Meng Sunn    ;  High Jump Open; 22; Male; 1.75m\n",
      "1 ;1056; Tokai, Marika      ;  Discus Throw Open; 24; Female; 9.22m; 47.78m\n",
      "2 ;1078; Yap, Jeng Tzan     ;  Discus Throw Open; 25; Female; 6.84m; 44.75m\n",
      "3 ;1005; Chiang, Ru Ching   ;  Discus Throw Open; 17; Female; 4.89m; 42.54m\n",
      "4 ;1165; Lee, Shih‑Yan Hann ;  Discus Throw Open; 20; Female; 2.79m; 42.36m\n",
      "5 ;1034; Indah, Prapiwi     ;  Discus Throw Open; 17; Female; 35.00m\n",
      "1 ;1083; Chan, Justina      ;  Pole Vault Open; 21; Female; 3.30m; 3.20m\n",
      "2 ;1159; Choi, Sin Ting     ;  Pole Vault Open; 23; Female; 3.21m; 2.80m\n"
     ]
    }
   ],
   "source": [
    "for index, row in df.iterrows(): # find row containing event details and column names\n",
    "                           \n",
    "        \n",
    "        if 'Event' in row[0]:\n",
    "            \n",
    "            row=row[0]\n",
    "                                    \n",
    "            position = re.search(event_pattern, row)\n",
    "                                                \n",
    "            split_end=position.end()      # adjust the splicing position to only capture the event name\n",
    "\n",
    "            event=row[split_end:]\n",
    "                                                \n",
    "            \n",
    "            if 'Men' in row:\n",
    "                gender='Male'\n",
    "                \n",
    "            if 'Women' in row:\n",
    "                gender='Female'    \n",
    "                   \n",
    "            if 'Finals' in event:\n",
    "                round='Finals'\n",
    "            \n",
    "            region='Local' \n",
    "            \n",
    "            \n",
    "        if re.search(result_pattern, row[0]):  # if row matches pattern with results\n",
    "            \n",
    "            string=row[0]\n",
    "            \n",
    "            rank=string[2:4]  # slice string to extract ranking\n",
    "            \n",
    "            ID=string[5:9]\n",
    "            \n",
    "            name=string[10:29]\n",
    "            \n",
    "            age = string[30:32]\n",
    "                        \n",
    "            team = string[33:55]\n",
    "            \n",
    "            remainder=string[56:].strip()\n",
    "                        \n",
    "            remainder=re.sub(\"\\s+\", \" \", remainder) # remove extraneous spaces from string\n",
    "                  \n",
    "            if not re.search(exclusion_pattern, remainder):   # drop those with NH, DNS or NWI\n",
    "   \n",
    "                list=remainder.split(' ')   # convert string to list   \n",
    "            \n",
    "                combined=rank+ ';'+ID+'; '+ name +'; ' + event +'; '+age+'; '+gender+'; '+'; '.join(list)  # use ';' in case names have a ','\n",
    "                print(combined)\n",
    "#        row=combined.split(';')\n",
    "                                                                \n",
    "    "
   ]
  },
  {
   "cell_type": "code",
   "execution_count": 175,
   "id": "7eb2b2bf",
   "metadata": {},
   "outputs": [
    {
     "data": {
      "text/plain": [
       "'2 ;1159; Choi, Sin Ting     ; ;  Pole Vault Open; ; 233.21m; 2.80m'"
      ]
     },
     "execution_count": 175,
     "metadata": {},
     "output_type": "execute_result"
    }
   ],
   "source": [
    "combined"
   ]
  },
  {
   "cell_type": "code",
   "execution_count": null,
   "id": "fd20e7ad",
   "metadata": {},
   "outputs": [],
   "source": []
  }
 ],
 "metadata": {
  "kernelspec": {
   "display_name": "Python 3 (ipykernel)",
   "language": "python",
   "name": "python3"
  },
  "language_info": {
   "codemirror_mode": {
    "name": "ipython",
    "version": 3
   },
   "file_extension": ".py",
   "mimetype": "text/x-python",
   "name": "python",
   "nbconvert_exporter": "python",
   "pygments_lexer": "ipython3",
   "version": "3.10.6"
  },
  "toc": {
   "base_numbering": 1,
   "nav_menu": {},
   "number_sections": true,
   "sideBar": true,
   "skip_h1_title": false,
   "title_cell": "Table of Contents",
   "title_sidebar": "Contents",
   "toc_cell": false,
   "toc_position": {},
   "toc_section_display": true,
   "toc_window_display": false
  }
 },
 "nbformat": 4,
 "nbformat_minor": 5
}
